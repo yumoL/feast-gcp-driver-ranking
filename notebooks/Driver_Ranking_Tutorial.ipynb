{
 "cells": [
  {
   "cell_type": "markdown",
   "metadata": {
    "colab_type": "text",
    "id": "view-in-github"
   },
   "source": [
    "<a href=\"https://colab.research.google.com/github/feast-dev/feast-driver-ranking-tutorial/blob/master/notebooks/Driver_Ranking_Tutorial.ipynb\" target=\"_parent\"><img src=\"https://colab.research.google.com/assets/colab-badge.svg\" alt=\"Open In Colab\"/></a>"
   ]
  },
  {
   "cell_type": "markdown",
   "metadata": {
    "id": "A7ffktm_Ty80"
   },
   "source": []
  },
  {
   "cell_type": "markdown",
   "metadata": {
    "id": "qa-41097T0vH"
   },
   "source": [
    "### Overview\n",
    "Making a prediction using a linear regression model is a common use case in ML. In this guide tutorial, we build the model that predicts if a driver will complete a trip based on a number of features ingested into Feast.\n",
    "\n",
    "The basic local mode gives you ability to quickly try Feast, while the advanced mode shows how you can use Feast in a production setting, in particular for the Google Cloud Platform (GCP) cloud.\n",
    "\n",
    "This tutorial uses Feast with scikit learn to:\n",
    "\n",
    "* Train a model locally using data from BigQuery\n",
    "* Test the model for online inference using SQLite (for fast iteration)\n",
    "* Test the model for online inference using Firestore (to represent production)\n",
    " "
   ]
  },
  {
   "cell_type": "markdown",
   "metadata": {
    "id": "j1Qipu_GUYdA"
   },
   "source": [
    "## Step 1: Install feast, scikit-learn\n",
    "\n",
    "Install feast, gcp dependencies and scikit-learn\n"
   ]
  },
  {
   "cell_type": "code",
   "execution_count": 1,
   "metadata": {
    "colab": {
     "base_uri": "https://localhost:8080/",
     "height": 1000
    },
    "id": "gxuVxKG3Ua6z",
    "outputId": "09ba5826-ef68-400c-a7a5-6a2ac5b9ebb5"
   },
   "outputs": [
    {
     "name": "stdout",
     "output_type": "stream",
     "text": [
      "Requirement already satisfied: feast in /home/local/luoyumo/anaconda3/envs/python3.8/lib/python3.8/site-packages (0.19.2)\n",
      "Collecting scikit-learn\n",
      "  Downloading scikit_learn-1.0.2-cp38-cp38-manylinux_2_17_x86_64.manylinux2014_x86_64.whl (26.7 MB)\n",
      "\u001b[K     |████████████████████████████████| 26.7 MB 11.9 MB/s eta 0:00:01\n",
      "\u001b[?25hRequirement already satisfied: PyYAML>=5.4.* in /home/local/luoyumo/anaconda3/envs/python3.8/lib/python3.8/site-packages (from feast) (6.0)\n",
      "Requirement already satisfied: uvicorn[standard]>=0.14.0 in /home/local/luoyumo/anaconda3/envs/python3.8/lib/python3.8/site-packages (from feast) (0.17.5)\n",
      "Requirement already satisfied: pydantic>=1.0.0 in /home/local/luoyumo/anaconda3/envs/python3.8/lib/python3.8/site-packages (from feast) (1.9.0)\n",
      "Requirement already satisfied: tenacity>=7.* in /home/local/luoyumo/anaconda3/envs/python3.8/lib/python3.8/site-packages (from feast) (8.0.1)\n",
      "Requirement already satisfied: tensorflow-metadata<2.0.0,>=1.0.0 in /home/local/luoyumo/anaconda3/envs/python3.8/lib/python3.8/site-packages (from feast) (1.7.0)\n",
      "Requirement already satisfied: pyarrow>=4.0.0 in /home/local/luoyumo/anaconda3/envs/python3.8/lib/python3.8/site-packages (from feast) (7.0.0)\n",
      "Requirement already satisfied: grpcio>=1.34.0 in /home/local/luoyumo/anaconda3/envs/python3.8/lib/python3.8/site-packages (from feast) (1.44.0)\n",
      "Requirement already satisfied: proto-plus<1.19.7 in /home/local/luoyumo/anaconda3/envs/python3.8/lib/python3.8/site-packages (from feast) (1.19.6)\n",
      "Requirement already satisfied: Jinja2>=2.0.0 in /home/local/luoyumo/anaconda3/envs/python3.8/lib/python3.8/site-packages (from feast) (3.0.3)\n",
      "Requirement already satisfied: pandavro==1.5.* in /home/local/luoyumo/anaconda3/envs/python3.8/lib/python3.8/site-packages (from feast) (1.5.2)\n",
      "Requirement already satisfied: pandas>=1.0.0 in /home/local/luoyumo/anaconda3/envs/python3.8/lib/python3.8/site-packages (from feast) (1.4.1)\n",
      "Requirement already satisfied: googleapis-common-protos==1.52.* in /home/local/luoyumo/anaconda3/envs/python3.8/lib/python3.8/site-packages (from feast) (1.52.0)\n",
      "Requirement already satisfied: dill==0.3.* in /home/local/luoyumo/anaconda3/envs/python3.8/lib/python3.8/site-packages (from feast) (0.3.4)\n",
      "Requirement already satisfied: tqdm==4.* in /home/local/luoyumo/anaconda3/envs/python3.8/lib/python3.8/site-packages (from feast) (4.63.0)\n",
      "Requirement already satisfied: dask<2022.02.0,>=2021.* in /home/local/luoyumo/anaconda3/envs/python3.8/lib/python3.8/site-packages (from feast) (2022.1.1)\n",
      "Requirement already satisfied: fastavro>=1.1.0 in /home/local/luoyumo/anaconda3/envs/python3.8/lib/python3.8/site-packages (from feast) (1.4.10)\n",
      "Requirement already satisfied: protobuf>=3.10 in /home/local/luoyumo/anaconda3/envs/python3.8/lib/python3.8/site-packages (from feast) (3.19.4)\n",
      "Requirement already satisfied: jsonschema in /home/local/luoyumo/anaconda3/envs/python3.8/lib/python3.8/site-packages (from feast) (4.4.0)\n",
      "Requirement already satisfied: colorama>=0.3.9 in /home/local/luoyumo/anaconda3/envs/python3.8/lib/python3.8/site-packages (from feast) (0.4.4)\n",
      "Requirement already satisfied: mmh3 in /home/local/luoyumo/anaconda3/envs/python3.8/lib/python3.8/site-packages (from feast) (3.0.0)\n",
      "Requirement already satisfied: tabulate==0.8.* in /home/local/luoyumo/anaconda3/envs/python3.8/lib/python3.8/site-packages (from feast) (0.8.9)\n",
      "Requirement already satisfied: Click>=7.* in /home/local/luoyumo/anaconda3/envs/python3.8/lib/python3.8/site-packages (from feast) (8.0.4)\n",
      "Requirement already satisfied: google-api-core>=1.23.0 in /home/local/luoyumo/anaconda3/envs/python3.8/lib/python3.8/site-packages (from feast) (2.6.0)\n",
      "Requirement already satisfied: grpcio-reflection>=1.34.0 in /home/local/luoyumo/anaconda3/envs/python3.8/lib/python3.8/site-packages (from feast) (1.44.0)\n",
      "Requirement already satisfied: toml==0.10.* in /home/local/luoyumo/anaconda3/envs/python3.8/lib/python3.8/site-packages (from feast) (0.10.2)\n",
      "Requirement already satisfied: fastapi>=0.68.0 in /home/local/luoyumo/anaconda3/envs/python3.8/lib/python3.8/site-packages (from feast) (0.75.0)\n",
      "Requirement already satisfied: six>=1.9 in /home/local/luoyumo/anaconda3/envs/python3.8/lib/python3.8/site-packages (from pandavro==1.5.*->feast) (1.16.0)\n",
      "Requirement already satisfied: numpy>=1.7.0 in /home/local/luoyumo/anaconda3/envs/python3.8/lib/python3.8/site-packages (from pandavro==1.5.*->feast) (1.22.2)\n",
      "Collecting scipy>=1.1.0\n",
      "  Downloading scipy-1.8.0-cp38-cp38-manylinux_2_17_x86_64.manylinux2014_x86_64.whl (41.6 MB)\n",
      "\u001b[K     |████████████████████████████████| 41.6 MB 12.3 MB/s eta 0:00:01\n",
      "\u001b[?25hCollecting threadpoolctl>=2.0.0\n",
      "  Downloading threadpoolctl-3.1.0-py3-none-any.whl (14 kB)\n",
      "Collecting joblib>=0.11\n",
      "  Downloading joblib-1.1.0-py2.py3-none-any.whl (306 kB)\n",
      "\u001b[K     |████████████████████████████████| 306 kB 4.6 MB/s eta 0:00:01\n",
      "\u001b[?25hCollecting google-cloud-bigquery-storage>=2.0.0\n",
      "  Downloading google_cloud_bigquery_storage-2.12.0-py2.py3-none-any.whl (179 kB)\n",
      "\u001b[K     |████████████████████████████████| 179 kB 12.1 MB/s eta 0:00:01\n",
      "\u001b[?25hCollecting google-cloud-core<2.0.0,>=1.4.0\n",
      "  Downloading google_cloud_core-1.7.2-py2.py3-none-any.whl (28 kB)\n",
      "Collecting google-cloud-storage<1.41,>=1.34.*\n",
      "  Downloading google_cloud_storage-1.40.0-py2.py3-none-any.whl (104 kB)\n",
      "\u001b[K     |████████████████████████████████| 104 kB 12.5 MB/s eta 0:00:01\n",
      "\u001b[?25hCollecting google-cloud-bigquery>=2.28.1\n",
      "  Downloading google_cloud_bigquery-2.34.1-py2.py3-none-any.whl (206 kB)\n",
      "\u001b[K     |████████████████████████████████| 206 kB 11.4 MB/s eta 0:00:01\n",
      "\u001b[?25hCollecting google-cloud-datastore>=2.1.*\n",
      "  Downloading google_cloud_datastore-2.5.0-py2.py3-none-any.whl (139 kB)\n",
      "\u001b[K     |████████████████████████████████| 139 kB 11.4 MB/s eta 0:00:01\n",
      "\u001b[?25hRequirement already satisfied: partd>=0.3.10 in /home/local/luoyumo/anaconda3/envs/python3.8/lib/python3.8/site-packages (from dask<2022.02.0,>=2021.*->feast) (1.2.0)\n",
      "Requirement already satisfied: cloudpickle>=1.1.1 in /home/local/luoyumo/anaconda3/envs/python3.8/lib/python3.8/site-packages (from dask<2022.02.0,>=2021.*->feast) (2.0.0)\n",
      "Requirement already satisfied: fsspec>=0.6.0 in /home/local/luoyumo/anaconda3/envs/python3.8/lib/python3.8/site-packages (from dask<2022.02.0,>=2021.*->feast) (2022.2.0)\n",
      "Requirement already satisfied: toolz>=0.8.2 in /home/local/luoyumo/anaconda3/envs/python3.8/lib/python3.8/site-packages (from dask<2022.02.0,>=2021.*->feast) (0.11.2)\n",
      "Requirement already satisfied: packaging>=20.0 in /home/local/luoyumo/anaconda3/envs/python3.8/lib/python3.8/site-packages (from dask<2022.02.0,>=2021.*->feast) (21.3)\n",
      "Requirement already satisfied: starlette==0.17.1 in /home/local/luoyumo/anaconda3/envs/python3.8/lib/python3.8/site-packages (from fastapi>=0.68.0->feast) (0.17.1)\n",
      "Requirement already satisfied: anyio<4,>=3.0.0 in /home/local/luoyumo/anaconda3/envs/python3.8/lib/python3.8/site-packages (from starlette==0.17.1->fastapi>=0.68.0->feast) (3.5.0)\n",
      "Requirement already satisfied: sniffio>=1.1 in /home/local/luoyumo/anaconda3/envs/python3.8/lib/python3.8/site-packages (from anyio<4,>=3.0.0->starlette==0.17.1->fastapi>=0.68.0->feast) (1.2.0)\n",
      "Requirement already satisfied: idna>=2.8 in /home/local/luoyumo/anaconda3/envs/python3.8/lib/python3.8/site-packages (from anyio<4,>=3.0.0->starlette==0.17.1->fastapi>=0.68.0->feast) (3.3)\n",
      "Requirement already satisfied: requests<3.0.0dev,>=2.18.0 in /home/local/luoyumo/anaconda3/envs/python3.8/lib/python3.8/site-packages (from google-api-core>=1.23.0->feast) (2.27.1)\n",
      "Requirement already satisfied: google-auth<3.0dev,>=1.25.0 in /home/local/luoyumo/anaconda3/envs/python3.8/lib/python3.8/site-packages (from google-api-core>=1.23.0->feast) (2.6.0)\n",
      "Requirement already satisfied: pyasn1-modules>=0.2.1 in /home/local/luoyumo/anaconda3/envs/python3.8/lib/python3.8/site-packages (from google-auth<3.0dev,>=1.25.0->google-api-core>=1.23.0->feast) (0.2.8)\n",
      "Requirement already satisfied: cachetools<6.0,>=2.0.0 in /home/local/luoyumo/anaconda3/envs/python3.8/lib/python3.8/site-packages (from google-auth<3.0dev,>=1.25.0->google-api-core>=1.23.0->feast) (5.0.0)\n",
      "Requirement already satisfied: rsa<5,>=3.1.4 in /home/local/luoyumo/anaconda3/envs/python3.8/lib/python3.8/site-packages (from google-auth<3.0dev,>=1.25.0->google-api-core>=1.23.0->feast) (4.8)\n"
     ]
    },
    {
     "name": "stdout",
     "output_type": "stream",
     "text": [
      "Collecting google-resumable-media<3.0dev,>=0.6.0\n",
      "  Using cached google_resumable_media-2.3.1-py2.py3-none-any.whl (76 kB)\n",
      "Requirement already satisfied: python-dateutil<3.0dev,>=2.7.2 in /home/local/luoyumo/anaconda3/envs/python3.8/lib/python3.8/site-packages (from google-cloud-bigquery>=2.28.1->feast) (2.8.2)\n",
      "Collecting grpcio-status<2.0dev,>=1.33.2\n",
      "  Downloading grpcio_status-1.44.0-py3-none-any.whl (10.0 kB)\n",
      "Collecting google-cloud-core<2.0.0,>=1.4.0\n",
      "  Downloading google_cloud_core-1.7.1-py2.py3-none-any.whl (28 kB)\n",
      "  Downloading google_cloud_core-1.7.0-py2.py3-none-any.whl (28 kB)\n",
      "  Downloading google_cloud_core-1.6.0-py2.py3-none-any.whl (28 kB)\n",
      "  Downloading google_cloud_core-1.5.0-py2.py3-none-any.whl (27 kB)\n",
      "  Downloading google_cloud_core-1.4.4-py2.py3-none-any.whl (27 kB)\n",
      "  Downloading google_cloud_core-1.4.3-py2.py3-none-any.whl (27 kB)\n",
      "  Downloading google_cloud_core-1.4.2-py2.py3-none-any.whl (26 kB)\n",
      "  Downloading google_cloud_core-1.4.1-py2.py3-none-any.whl (26 kB)\n",
      "INFO: pip is looking at multiple versions of google-cloud-bigquery-storage to determine which version is compatible with other requirements. This could take a while.\n",
      "Collecting google-cloud-bigquery-storage>=2.0.0\n",
      "  Downloading google_cloud_bigquery_storage-2.11.0-py2.py3-none-any.whl (172 kB)\n",
      "\u001b[K     |████████████████████████████████| 172 kB 9.6 MB/s eta 0:00:01\n",
      "\u001b[?25hCollecting libcst>=0.2.5\n",
      "  Downloading libcst-0.4.1-cp38-cp38-manylinux_2_17_x86_64.manylinux2014_x86_64.whl (2.7 MB)\n",
      "\u001b[K     |████████████████████████████████| 2.7 MB 8.2 MB/s eta 0:00:01\n",
      "\u001b[?25hCollecting google-cloud-bigquery-storage>=2.0.0\n",
      "  Downloading google_cloud_bigquery_storage-2.10.1-py2.py3-none-any.whl (171 kB)\n",
      "\u001b[K     |████████████████████████████████| 171 kB 10.6 MB/s eta 0:00:01\n",
      "\u001b[?25h  Downloading google_cloud_bigquery_storage-2.10.0-py2.py3-none-any.whl (171 kB)\n",
      "\u001b[K     |████████████████████████████████| 171 kB 10.1 MB/s eta 0:00:01\n",
      "\u001b[?25h  Downloading google_cloud_bigquery_storage-2.9.1-py2.py3-none-any.whl (170 kB)\n",
      "\u001b[K     |████████████████████████████████| 170 kB 10.9 MB/s eta 0:00:01\n",
      "\u001b[?25h  Downloading google_cloud_bigquery_storage-2.9.0-py2.py3-none-any.whl (170 kB)\n",
      "\u001b[K     |████████████████████████████████| 170 kB 11.9 MB/s eta 0:00:01\n",
      "\u001b[?25h  Downloading google_cloud_bigquery_storage-2.8.0-py2.py3-none-any.whl (131 kB)\n",
      "\u001b[K     |████████████████████████████████| 131 kB 7.9 MB/s eta 0:00:01\n",
      "\u001b[?25h  Downloading google_cloud_bigquery_storage-2.7.0-py2.py3-none-any.whl (125 kB)\n",
      "\u001b[K     |████████████████████████████████| 125 kB 10.8 MB/s eta 0:00:01\n",
      "\u001b[?25hINFO: pip is looking at multiple versions of google-cloud-bigquery-storage to determine which version is compatible with other requirements. This could take a while.\n",
      "  Downloading google_cloud_bigquery_storage-2.6.3-py2.py3-none-any.whl (125 kB)\n",
      "\u001b[K     |████████████████████████████████| 125 kB 11.2 MB/s eta 0:00:01\n",
      "\u001b[?25h  Downloading google_cloud_bigquery_storage-2.6.2-py2.py3-none-any.whl (125 kB)\n",
      "\u001b[K     |████████████████████████████████| 125 kB 11.1 MB/s eta 0:00:01\n",
      "\u001b[?25h  Downloading google_cloud_bigquery_storage-2.6.1-py2.py3-none-any.whl (125 kB)\n",
      "\u001b[K     |████████████████████████████████| 125 kB 11.4 MB/s eta 0:00:01\n",
      "\u001b[?25h  Downloading google_cloud_bigquery_storage-2.6.0-py2.py3-none-any.whl (125 kB)\n",
      "\u001b[K     |████████████████████████████████| 125 kB 9.7 MB/s eta 0:00:01\n",
      "\u001b[?25h  Downloading google_cloud_bigquery_storage-2.5.0-py2.py3-none-any.whl (124 kB)\n",
      "\u001b[K     |████████████████████████████████| 124 kB 11.3 MB/s eta 0:00:01\n",
      "\u001b[?25h  Downloading google_cloud_bigquery_storage-2.4.0-py2.py3-none-any.whl (143 kB)\n",
      "\u001b[K     |████████████████████████████████| 143 kB 11.5 MB/s eta 0:00:01\n",
      "\u001b[?25h  Downloading google_cloud_bigquery_storage-2.3.0-py2.py3-none-any.whl (142 kB)\n",
      "\u001b[K     |████████████████████████████████| 142 kB 8.4 MB/s eta 0:00:01\n",
      "\u001b[?25h  Downloading google_cloud_bigquery_storage-2.2.1-py2.py3-none-any.whl (140 kB)\n",
      "\u001b[K     |████████████████████████████████| 140 kB 11.7 MB/s eta 0:00:01\n",
      "\u001b[?25h  Downloading google_cloud_bigquery_storage-2.2.0-py2.py3-none-any.whl (140 kB)\n",
      "\u001b[K     |████████████████████████████████| 140 kB 11.7 MB/s eta 0:00:01\n",
      "\u001b[?25h  Downloading google_cloud_bigquery_storage-2.1.0-py2.py3-none-any.whl (61 kB)\n",
      "\u001b[K     |████████████████████████████████| 61 kB 10.7 MB/s eta 0:00:01\n",
      "\u001b[?25h  Downloading google_cloud_bigquery_storage-2.0.1-py2.py3-none-any.whl (60 kB)\n",
      "\u001b[K     |████████████████████████████████| 60 kB 8.6 MB/s  eta 0:00:01\n",
      "\u001b[?25h  Downloading google_cloud_bigquery_storage-2.0.0-py2.py3-none-any.whl (60 kB)\n",
      "\u001b[K     |████████████████████████████████| 60 kB 5.9 MB/s  eta 0:00:01\n",
      "\u001b[?25hINFO: pip is looking at multiple versions of google-api-core[grpc] to determine which version is compatible with other requirements. This could take a while.\n",
      "Collecting google-api-core[grpc]<3.0.0dev,>=1.29.0\n",
      "  Using cached google_api_core-2.6.0-py2.py3-none-any.whl (114 kB)\n",
      "INFO: This is taking longer than usual. You might need to provide the dependency resolver with stricter constraints to reduce runtime. If you want to abort this run, you can press Ctrl + C to do so. To improve how pip performs, tell us what happened here: https://pip.pypa.io/surveys/backtracking\n",
      "INFO: pip is looking at multiple versions of google-api-core to determine which version is compatible with other requirements. This could take a while.\n",
      "  Downloading google_api_core-2.5.0-py2.py3-none-any.whl (111 kB)\n",
      "\u001b[K     |████████████████████████████████| 111 kB 11.7 MB/s eta 0:00:01\n",
      "\u001b[?25h  Downloading google_api_core-2.4.0-py2.py3-none-any.whl (111 kB)\n",
      "\u001b[K     |████████████████████████████████| 111 kB 14.5 MB/s eta 0:00:01\n",
      "\u001b[?25hRequirement already satisfied: setuptools>=40.3.0 in /home/local/luoyumo/anaconda3/envs/python3.8/lib/python3.8/site-packages (from google-api-core[grpc]<3.0.0dev,>=1.29.0->google-cloud-bigquery>=2.28.1->feast) (58.0.4)\n",
      "  Downloading google_api_core-2.3.2-py2.py3-none-any.whl (109 kB)\n",
      "\u001b[K     |████████████████████████████████| 109 kB 13.7 MB/s eta 0:00:01\n",
      "\u001b[?25h  Downloading google_api_core-2.3.0-py2.py3-none-any.whl (109 kB)\n",
      "\u001b[K     |████████████████████████████████| 109 kB 12.3 MB/s eta 0:00:01\n",
      "\u001b[?25h  Downloading google_api_core-2.2.2-py2.py3-none-any.whl (95 kB)\n",
      "\u001b[K     |████████████████████████████████| 95 kB 6.3 MB/s  eta 0:00:01\n",
      "\u001b[?25h  Downloading google_api_core-2.2.1-py2.py3-none-any.whl (95 kB)\n",
      "\u001b[K     |████████████████████████████████| 95 kB 6.1 MB/s  eta 0:00:01\n",
      "\u001b[?25hINFO: pip is looking at multiple versions of google-api-core[grpc] to determine which version is compatible with other requirements. This could take a while.\n",
      "  Downloading google_api_core-2.2.0-py2.py3-none-any.whl (95 kB)\n",
      "\u001b[K     |████████████████████████████████| 95 kB 6.8 MB/s  eta 0:00:01\n",
      "\u001b[?25hINFO: pip is looking at multiple versions of google-api-core to determine which version is compatible with other requirements. This could take a while.\n",
      "  Downloading google_api_core-2.1.1-py2.py3-none-any.whl (95 kB)\n",
      "\u001b[K     |████████████████████████████████| 95 kB 6.8 MB/s  eta 0:00:01\n",
      "\u001b[?25h  Downloading google_api_core-2.1.0-py2.py3-none-any.whl (94 kB)\n",
      "\u001b[K     |████████████████████████████████| 94 kB 5.8 MB/s  eta 0:00:01\n",
      "\u001b[?25h  Downloading google_api_core-2.0.1-py2.py3-none-any.whl (92 kB)\n",
      "\u001b[K     |████████████████████████████████| 92 kB 1.3 MB/s  eta 0:00:01\n",
      "\u001b[?25h  Downloading google_api_core-2.0.0-py2.py3-none-any.whl (92 kB)\n",
      "\u001b[K     |████████████████████████████████| 92 kB 1.3 MB/s  eta 0:00:01\n",
      "\u001b[?25hINFO: This is taking longer than usual. You might need to provide the dependency resolver with stricter constraints to reduce runtime. If you want to abort this run, you can press Ctrl + C to do so. To improve how pip performs, tell us what happened here: https://pip.pypa.io/surveys/backtracking\n",
      "  Downloading google_api_core-1.31.5-py2.py3-none-any.whl (93 kB)\n",
      "\u001b[K     |████████████████████████████████| 93 kB 4.1 MB/s  eta 0:00:01\n",
      "\u001b[?25hRequirement already satisfied: pytz in /home/local/luoyumo/anaconda3/envs/python3.8/lib/python3.8/site-packages (from google-api-core[grpc]<3.0.0dev,>=1.29.0->google-cloud-bigquery>=2.28.1->feast) (2021.3)\n",
      "Collecting google-auth<3.0dev,>=1.25.0\n",
      "  Downloading google_auth-1.35.0-py2.py3-none-any.whl (152 kB)\n",
      "\u001b[K     |████████████████████████████████| 152 kB 9.1 MB/s eta 0:00:01\n"
     ]
    },
    {
     "name": "stdout",
     "output_type": "stream",
     "text": [
      "\u001b[?25hCollecting cachetools<6.0,>=2.0.0\n",
      "  Downloading cachetools-4.2.4-py3-none-any.whl (10 kB)\n",
      "Collecting google-resumable-media<3.0dev,>=0.6.0\n",
      "  Downloading google_resumable_media-1.3.3-py2.py3-none-any.whl (75 kB)\n",
      "\u001b[K     |████████████████████████████████| 75 kB 7.4 MB/s  eta 0:00:01\n",
      "\u001b[?25hCollecting google-crc32c<2.0dev,>=1.0\n",
      "  Downloading google_crc32c-1.3.0-cp38-cp38-manylinux_2_12_x86_64.manylinux2010_x86_64.whl (37 kB)\n",
      "Requirement already satisfied: MarkupSafe>=2.0 in /home/local/luoyumo/anaconda3/envs/python3.8/lib/python3.8/site-packages (from Jinja2>=2.0.0->feast) (2.1.0)\n",
      "Requirement already satisfied: pyparsing!=3.0.5,>=2.0.2 in /home/local/luoyumo/anaconda3/envs/python3.8/lib/python3.8/site-packages (from packaging>=20.0->dask<2022.02.0,>=2021.*->feast) (3.0.7)\n",
      "Requirement already satisfied: locket in /home/local/luoyumo/anaconda3/envs/python3.8/lib/python3.8/site-packages (from partd>=0.3.10->dask<2022.02.0,>=2021.*->feast) (0.2.1)\n",
      "Requirement already satisfied: pyasn1<0.5.0,>=0.4.6 in /home/local/luoyumo/anaconda3/envs/python3.8/lib/python3.8/site-packages (from pyasn1-modules>=0.2.1->google-auth<3.0dev,>=1.25.0->google-api-core>=1.23.0->feast) (0.4.8)\n",
      "Requirement already satisfied: typing-extensions>=3.7.4.3 in /home/local/luoyumo/anaconda3/envs/python3.8/lib/python3.8/site-packages (from pydantic>=1.0.0->feast) (4.1.1)\n",
      "Requirement already satisfied: urllib3<1.27,>=1.21.1 in /home/local/luoyumo/anaconda3/envs/python3.8/lib/python3.8/site-packages (from requests<3.0.0dev,>=2.18.0->google-api-core>=1.23.0->feast) (1.26.8)\n",
      "Requirement already satisfied: certifi>=2017.4.17 in /home/local/luoyumo/anaconda3/envs/python3.8/lib/python3.8/site-packages (from requests<3.0.0dev,>=2.18.0->google-api-core>=1.23.0->feast) (2021.10.8)\n",
      "Requirement already satisfied: charset-normalizer~=2.0.0 in /home/local/luoyumo/anaconda3/envs/python3.8/lib/python3.8/site-packages (from requests<3.0.0dev,>=2.18.0->google-api-core>=1.23.0->feast) (2.0.12)\n",
      "Requirement already satisfied: absl-py<2.0.0,>=0.9 in /home/local/luoyumo/anaconda3/envs/python3.8/lib/python3.8/site-packages (from tensorflow-metadata<2.0.0,>=1.0.0->feast) (1.0.0)\n",
      "Requirement already satisfied: asgiref>=3.4.0 in /home/local/luoyumo/anaconda3/envs/python3.8/lib/python3.8/site-packages (from uvicorn[standard]>=0.14.0->feast) (3.5.0)\n",
      "Requirement already satisfied: h11>=0.8 in /home/local/luoyumo/anaconda3/envs/python3.8/lib/python3.8/site-packages (from uvicorn[standard]>=0.14.0->feast) (0.13.0)\n",
      "Requirement already satisfied: httptools<0.4.0,>=0.2.0 in /home/local/luoyumo/anaconda3/envs/python3.8/lib/python3.8/site-packages (from uvicorn[standard]>=0.14.0->feast) (0.3.0)\n",
      "Requirement already satisfied: watchgod>=0.6 in /home/local/luoyumo/anaconda3/envs/python3.8/lib/python3.8/site-packages (from uvicorn[standard]>=0.14.0->feast) (0.7)\n",
      "Requirement already satisfied: python-dotenv>=0.13 in /home/local/luoyumo/anaconda3/envs/python3.8/lib/python3.8/site-packages (from uvicorn[standard]>=0.14.0->feast) (0.19.2)\n",
      "Requirement already satisfied: uvloop!=0.15.0,!=0.15.1,>=0.14.0 in /home/local/luoyumo/anaconda3/envs/python3.8/lib/python3.8/site-packages (from uvicorn[standard]>=0.14.0->feast) (0.16.0)\n",
      "Requirement already satisfied: websockets>=10.0 in /home/local/luoyumo/anaconda3/envs/python3.8/lib/python3.8/site-packages (from uvicorn[standard]>=0.14.0->feast) (10.2)\n",
      "Requirement already satisfied: pyrsistent!=0.17.0,!=0.17.1,!=0.17.2,>=0.14.0 in /home/local/luoyumo/anaconda3/envs/python3.8/lib/python3.8/site-packages (from jsonschema->feast) (0.18.1)\n",
      "Requirement already satisfied: importlib-resources>=1.4.0 in /home/local/luoyumo/anaconda3/envs/python3.8/lib/python3.8/site-packages (from jsonschema->feast) (5.4.0)\n",
      "Requirement already satisfied: attrs>=17.4.0 in /home/local/luoyumo/anaconda3/envs/python3.8/lib/python3.8/site-packages (from jsonschema->feast) (21.4.0)\n",
      "Requirement already satisfied: zipp>=3.1.0 in /home/local/luoyumo/anaconda3/envs/python3.8/lib/python3.8/site-packages (from importlib-resources>=1.4.0->jsonschema->feast) (3.7.0)\n",
      "Installing collected packages: cachetools, google-auth, google-crc32c, google-api-core, google-resumable-media, google-cloud-core, threadpoolctl, scipy, joblib, google-cloud-storage, google-cloud-datastore, google-cloud-bigquery-storage, google-cloud-bigquery, scikit-learn\n",
      "  Attempting uninstall: cachetools\n",
      "    Found existing installation: cachetools 5.0.0\n",
      "    Uninstalling cachetools-5.0.0:\n",
      "      Successfully uninstalled cachetools-5.0.0\n",
      "  Attempting uninstall: google-auth\n",
      "    Found existing installation: google-auth 2.6.0\n",
      "    Uninstalling google-auth-2.6.0:\n",
      "      Successfully uninstalled google-auth-2.6.0\n",
      "  Attempting uninstall: google-api-core\n",
      "    Found existing installation: google-api-core 2.6.0\n",
      "    Uninstalling google-api-core-2.6.0:\n",
      "      Successfully uninstalled google-api-core-2.6.0\n",
      "Successfully installed cachetools-4.2.4 google-api-core-1.31.5 google-auth-1.35.0 google-cloud-bigquery-2.34.1 google-cloud-bigquery-storage-2.12.0 google-cloud-core-1.7.2 google-cloud-datastore-2.5.0 google-cloud-storage-1.40.0 google-crc32c-1.3.0 google-resumable-media-1.3.3 joblib-1.1.0 scikit-learn-1.0.2 scipy-1.8.0 threadpoolctl-3.1.0\n"
     ]
    }
   ],
   "source": [
    "!pip install feast scikit-learn 'feast[gcp]'"
   ]
  },
  {
   "cell_type": "markdown",
   "metadata": {
    "id": "P8pFSVUp34W5"
   },
   "source": [
    "#### Check feast version"
   ]
  },
  {
   "cell_type": "markdown",
   "metadata": {
    "id": "soTYiMPXcNco"
   },
   "source": []
  },
  {
   "cell_type": "code",
   "execution_count": 2,
   "metadata": {
    "colab": {
     "base_uri": "https://localhost:8080/"
    },
    "id": "cOSAfdZiUnFa",
    "outputId": "2462ce77-242b-4018-b5d6-fd0baa239836"
   },
   "outputs": [
    {
     "name": "stdout",
     "output_type": "stream",
     "text": [
      "Feast SDK Version: \"feast 0.19.2\"\r\n"
     ]
    }
   ],
   "source": [
    "!feast version "
   ]
  },
  {
   "cell_type": "markdown",
   "metadata": {
    "id": "pC4AzJ_b396l"
   },
   "source": [
    "## Step 2: Clone the Git repo\n",
    "\n",
    "Clone the Driver Ranking Git repo into your Colab Folder"
   ]
  },
  {
   "cell_type": "code",
   "execution_count": 3,
   "metadata": {
    "colab": {
     "base_uri": "https://localhost:8080/"
    },
    "id": "4Qim_qbtUyGA",
    "outputId": "6556ee99-aac3-468c-a9d5-8a643387712d"
   },
   "outputs": [
    {
     "name": "stdout",
     "output_type": "stream",
     "text": [
      "Cloning into 'feast-driver-ranking-tutorial'...\n",
      "remote: Enumerating objects: 65, done.\u001b[K\n",
      "remote: Counting objects: 100% (65/65), done.\u001b[K\n",
      "remote: Compressing objects: 100% (49/49), done.\u001b[K\n",
      "remote: Total 65 (delta 26), reused 43 (delta 14), pack-reused 0\u001b[K\n",
      "Unpacking objects: 100% (65/65), 21.29 KiB | 396.00 KiB/s, done.\n"
     ]
    }
   ],
   "source": [
    "!git clone https://github.com/feast-dev/feast-driver-ranking-tutorial.git"
   ]
  },
  {
   "cell_type": "markdown",
   "metadata": {
    "id": "tLnM3IOy5C5l"
   },
   "source": [
    "## Step 3: Set up your Goggle Cloud Platform (GCP) Configurations"
   ]
  },
  {
   "cell_type": "markdown",
   "metadata": {
    "id": "KiNaOTKzWIcb"
   },
   "source": [
    "## Authenticate into GCP\n",
    "This will allow you to do the advanced section of the tutorial, where you materialize remotely on a GCP\n",
    "Feast spins up infrastructure on GCP using the credentials in our environment. Run the following cell to log into GCP:"
   ]
  },
  {
   "cell_type": "code",
   "execution_count": 4,
   "metadata": {
    "id": "8Tj3MUPHWPTF"
   },
   "outputs": [
    {
     "ename": "ModuleNotFoundError",
     "evalue": "No module named 'google.colab'",
     "output_type": "error",
     "traceback": [
      "\u001b[0;31m---------------------------------------------------------------------------\u001b[0m",
      "\u001b[0;31mModuleNotFoundError\u001b[0m                       Traceback (most recent call last)",
      "\u001b[0;32m/tmp/ipykernel_174186/1437431822.py\u001b[0m in \u001b[0;36m<module>\u001b[0;34m\u001b[0m\n\u001b[0;32m----> 1\u001b[0;31m \u001b[0;32mfrom\u001b[0m \u001b[0mgoogle\u001b[0m\u001b[0;34m.\u001b[0m\u001b[0mcolab\u001b[0m \u001b[0;32mimport\u001b[0m \u001b[0mauth\u001b[0m\u001b[0;34m\u001b[0m\u001b[0;34m\u001b[0m\u001b[0m\n\u001b[0m\u001b[1;32m      2\u001b[0m \u001b[0mauth\u001b[0m\u001b[0;34m.\u001b[0m\u001b[0mauthenticate_user\u001b[0m\u001b[0;34m(\u001b[0m\u001b[0;34m)\u001b[0m\u001b[0;34m\u001b[0m\u001b[0;34m\u001b[0m\u001b[0m\n",
      "\u001b[0;31mModuleNotFoundError\u001b[0m: No module named 'google.colab'"
     ]
    }
   ],
   "source": [
    "from google.colab import auth\n",
    "auth.authenticate_user()"
   ]
  },
  {
   "cell_type": "markdown",
   "metadata": {
    "id": "d8yzazB-Wfqc"
   },
   "source": [
    "Set configurations\n",
    "Set the following configuration, which we'll be using throughout the tutorial:\n",
    "\n",
    "PROJECT_ID: Your project.\n",
    "BUCKET_NAME: The name of a bucket which will be used to store the feature store registry and model artifacts.\n",
    "BIGQUERY_DATASET_NAME: The name of a dataset which will be used to create tables containing features.\n",
    "AI_PLATFORM_MODEL_NAME: The name of a model name which will be created in AI Platform."
   ]
  },
  {
   "cell_type": "code",
   "execution_count": 7,
   "metadata": {
    "colab": {
     "base_uri": "https://localhost:8080/"
    },
    "id": "zV0sgfOTWeXz",
    "outputId": "d324609f-83e9-444c-c581-f2ecfd103bb6"
   },
   "outputs": [
    {
     "name": "stdout",
     "output_type": "stream",
     "text": [
      "Updated property [core/project].\n",
      "env: GOOGLE_CLOUD_PROJECT=kf-feast\n"
     ]
    }
   ],
   "source": [
    "PROJECT_ID= \"kf-feast\" #@param {type:\"string\"}\n",
    "BUCKET_NAME= \"driver_ranking_tutorial\" #@param {type:\"string\"} custom\n",
    "BIGQUERY_DATASET_NAME=\"feast_driver_ranking_tutorial\" #@param {type:\"string\"} custom\n",
    "AI_PLATFORM_MODEL_NAME=\"feast_driver_rankin_jsd_model\" #@param {type:\"string\"\n",
    "\n",
    "! gcloud config set project $PROJECT_ID\n",
    "%env GOOGLE_CLOUD_PROJECT=$PROJECT_ID\n",
    "!echo project_id = $PROJECT_ID > ~/.bigqueryrc"
   ]
  },
  {
   "cell_type": "code",
   "execution_count": 8,
   "metadata": {
    "colab": {
     "base_uri": "https://localhost:8080/"
    },
    "id": "6Cs_SYr2gOjR",
    "outputId": "4b3d811b-6685-46f8-9830-b0378962bbef"
   },
   "outputs": [
    {
     "name": "stdout",
     "output_type": "stream",
     "text": [
      "Creating gs://driver_ranking_tutorial/...\n"
     ]
    }
   ],
   "source": [
    "# Only run if your bucket doesn't already exist!\n",
    "! gsutil mb gs://$BUCKET_NAME"
   ]
  },
  {
   "cell_type": "markdown",
   "metadata": {
    "id": "ohWMCVhS5PPN"
   },
   "source": [
    "## Step 4: Apply and deploy feature definitions\n",
    "\n",
    "`feast apply` scans python files in the current directory for feature definitions and deploys infrastructure according to `feature_store.yaml`"
   ]
  },
  {
   "cell_type": "code",
   "execution_count": 9,
   "metadata": {
    "colab": {
     "base_uri": "https://localhost:8080/"
    },
    "id": "izhTk0WWX3Tx",
    "outputId": "444a11d3-db43-4170-c28b-51d6ea618660"
   },
   "outputs": [
    {
     "name": "stdout",
     "output_type": "stream",
     "text": [
      "Registered entity \u001b[1m\u001b[32mdriver_id\u001b[0m\n",
      "Registered feature view \u001b[1m\u001b[32mdriver_hourly_stats\u001b[0m\n",
      "Deploying infrastructure for \u001b[1m\u001b[32mdriver_hourly_stats\u001b[0m\n"
     ]
    },
    {
     "data": {
      "text/plain": []
     },
     "execution_count": 9,
     "metadata": {
      "tags": []
     },
     "output_type": "execute_result"
    }
   ],
   "source": [
    "%%shell\n",
    "cd /content/feast-driver-ranking-tutorial/driver_ranking/\n",
    "feast apply"
   ]
  },
  {
   "cell_type": "markdown",
   "metadata": {
    "id": "lJlrf2Iu53BR"
   },
   "source": [
    "### Inspect the files created under your local folder"
   ]
  },
  {
   "cell_type": "code",
   "execution_count": 10,
   "metadata": {
    "colab": {
     "base_uri": "https://localhost:8080/"
    },
    "id": "IrJ6gqtdmKk7",
    "outputId": "db32950c-9a73-4c06-fde3-52c753929c9b"
   },
   "outputs": [
    {
     "name": "stdout",
     "output_type": "stream",
     "text": [
      "total 20\n",
      "-rw-r--r-- 1 root root 16384 Jul 26 20:43 online.db\n",
      "-rw-r--r-- 1 root root   310 Jul 26 20:43 registry.db\n"
     ]
    },
    {
     "data": {
      "text/plain": []
     },
     "execution_count": 10,
     "metadata": {
      "tags": []
     },
     "output_type": "execute_result"
    }
   ],
   "source": [
    "%%shell\n",
    "cd /content/feast-driver-ranking-tutorial/driver_ranking/data/\n",
    "ls -l "
   ]
  },
  {
   "cell_type": "markdown",
   "metadata": {
    "id": "bHBfTEau6Qt9"
   },
   "source": [
    "## Step 5: Train your model"
   ]
  },
  {
   "cell_type": "code",
   "execution_count": 13,
   "metadata": {
    "colab": {
     "base_uri": "https://localhost:8080/"
    },
    "id": "F-Pc4Jo4kzBL",
    "outputId": "6414795f-9330-44b3-ee5c-992c9dd55db7"
   },
   "outputs": [
    {
     "name": "stdout",
     "output_type": "stream",
     "text": [
      "----- Feature schema -----\n",
      "\n",
      "<class 'pandas.core.frame.DataFrame'>\n",
      "RangeIndex: 10 entries, 0 to 9\n",
      "Data columns (total 6 columns):\n",
      " #   Column                                Non-Null Count  Dtype              \n",
      "---  ------                                --------------  -----              \n",
      " 0   event_timestamp                       10 non-null     datetime64[ns, UTC]\n",
      " 1   driver_id                             10 non-null     int64              \n",
      " 2   trip_completed                        10 non-null     int64              \n",
      " 3   driver_hourly_stats__conv_rate        10 non-null     float64            \n",
      " 4   driver_hourly_stats__acc_rate         10 non-null     float64            \n",
      " 5   driver_hourly_stats__avg_daily_trips  10 non-null     int64              \n",
      "dtypes: datetime64[ns, UTC](1), float64(2), int64(3)\n",
      "memory usage: 608.0 bytes\n",
      "None\n",
      "\n",
      "----- Example features -----\n",
      "\n",
      "            event_timestamp  ...  driver_hourly_stats__avg_daily_trips\n",
      "0 2021-04-17 04:29:28+00:00  ...                                   982\n",
      "1 2021-04-18 04:29:28+00:00  ...                                   982\n",
      "2 2021-04-19 04:29:28+00:00  ...                                   982\n",
      "3 2021-04-17 12:29:28+00:00  ...                                   551\n",
      "4 2021-04-18 12:29:28+00:00  ...                                   551\n",
      "\n",
      "[5 rows x 6 columns]\n"
     ]
    },
    {
     "data": {
      "text/plain": [
       "['driver_model.bin']"
      ]
     },
     "execution_count": 13,
     "metadata": {
      "tags": []
     },
     "output_type": "execute_result"
    }
   ],
   "source": [
    "import feast\n",
    "from joblib import dump\n",
    "import pandas as pd\n",
    "from sklearn.linear_model import LinearRegression\n",
    "\n",
    "# Load driver order data\n",
    "orders = pd.read_csv(\"/content/feast-driver-ranking-tutorial/driver_orders.csv\", sep=\"\\t\")\n",
    "orders[\"event_timestamp\"] = pd.to_datetime(orders[\"event_timestamp\"])\n",
    "\n",
    "# Connect to your feature store provider\n",
    "fs = feast.FeatureStore(repo_path=\"/content/feast-driver-ranking-tutorial/driver_ranking\")\n",
    "        \n",
    "# Retrieve training data from BigQuery\n",
    "training_df = fs.get_historical_features(\n",
    "    entity_df=orders,\n",
    "    feature_refs=[\n",
    "        \"driver_hourly_stats:conv_rate\",\n",
    "        \"driver_hourly_stats:acc_rate\",\n",
    "        \"driver_hourly_stats:avg_daily_trips\",\n",
    "    ],\n",
    ").to_df()\n",
    "\n",
    "print(\"----- Feature schema -----\\n\")\n",
    "print(training_df.info())\n",
    "\n",
    "print()\n",
    "print(\"----- Example features -----\\n\")\n",
    "print(training_df.head())\n",
    "\n",
    "# Train model\n",
    "target = \"trip_completed\"\n",
    "\n",
    "reg = LinearRegression()\n",
    "train_X = training_df[training_df.columns.drop(target).drop(\"event_timestamp\")]\n",
    "train_Y = training_df.loc[:, target]\n",
    "reg.fit(train_X[sorted(train_X)], train_Y)\n",
    "\n",
    "# Save model\n",
    "dump(reg, \"driver_model.bin\")"
   ]
  },
  {
   "cell_type": "markdown",
   "metadata": {
    "id": "HpHacyo47Are"
   },
   "source": [
    "## Step 6: Materialize your online store\n",
    "Apply and materialize data to Firestore"
   ]
  },
  {
   "cell_type": "code",
   "execution_count": 14,
   "metadata": {
    "colab": {
     "base_uri": "https://localhost:8080/"
    },
    "id": "67627WRSajIk",
    "outputId": "056ce886-36a5-48dc-dcbb-23e032695708"
   },
   "outputs": [
    {
     "name": "stdout",
     "output_type": "stream",
     "text": [
      "Materializing \u001b[1m\u001b[32m1\u001b[0m feature views to \u001b[1m\u001b[32m2022-01-01 00:00:00+00:00\u001b[0m into the \u001b[1m\u001b[32mdatastore\u001b[0m online store.\n",
      "\n",
      "\u001b[1m\u001b[32mdriver_hourly_stats\u001b[0m from \u001b[1m\u001b[32m2020-07-27 20:45:14+00:00\u001b[0m to \u001b[1m\u001b[32m2022-01-01 00:00:00+00:00\u001b[0m:\n",
      "100%|███████████████████████████████████████████████████████████████| 10/10 [00:01<00:00,  6.16it/s]\n"
     ]
    }
   ],
   "source": [
    "!cd /content/feast-driver-ranking-tutorial/driver_ranking/ && feast materialize-incremental 2022-01-01T00:00:00"
   ]
  },
  {
   "cell_type": "markdown",
   "metadata": {
    "id": "-869cxQO2ana"
   },
   "source": [
    "### Step 7:  Make Prediction"
   ]
  },
  {
   "cell_type": "code",
   "execution_count": 19,
   "metadata": {
    "id": "VP85XeGFzNYl"
   },
   "outputs": [],
   "source": [
    "import pandas as pd\n",
    "import feast\n",
    "from joblib import load\n",
    "\n",
    "\n",
    "class DriverRankingModel:\n",
    "    def __init__(self):\n",
    "        # Load model\n",
    "        self.model = load(\"/content/driver_model.bin\")\n",
    "\n",
    "        # Set up feature store\n",
    "        self.fs = feast.FeatureStore(repo_path=\"/content/feast-driver-ranking-tutorial/driver_ranking/\")\n",
    "\n",
    "    def predict(self, driver_ids):\n",
    "        # Read features from Feast\n",
    "        driver_features = self.fs.get_online_features(\n",
    "            entity_rows=[{\"driver_id\": driver_id} for driver_id in driver_ids],\n",
    "            features=[\n",
    "                \"driver_hourly_stats:conv_rate\",\n",
    "                \"driver_hourly_stats:acc_rate\",\n",
    "                \"driver_hourly_stats:avg_daily_trips\",\n",
    "            ],\n",
    "        )\n",
    "        df = pd.DataFrame.from_dict(driver_features.to_dict())\n",
    "\n",
    "        # Make prediction\n",
    "        df[\"prediction\"] = self.model.predict(df[sorted(df)])\n",
    "\n",
    "        # Choose best driver\n",
    "        best_driver_id = df[\"driver_id\"].iloc[df[\"prediction\"].argmax()]\n",
    "\n",
    "        # return best driver\n",
    "        return best_driver_id"
   ]
  },
  {
   "cell_type": "code",
   "execution_count": 20,
   "metadata": {
    "id": "f9AJ842Rk3E9"
   },
   "outputs": [],
   "source": [
    "def make_drivers_prediction():\n",
    "    drivers = [1001, 1002, 1003, 1004]\n",
    "    model = DriverRankingModel()\n",
    "    best_driver = model.predict(drivers)\n",
    "    print(f\"Prediction for best driver id: {best_driver}\")"
   ]
  },
  {
   "cell_type": "code",
   "execution_count": 21,
   "metadata": {
    "colab": {
     "base_uri": "https://localhost:8080/"
    },
    "id": "lq2TNXfjbb8e",
    "outputId": "7c163361-491b-4eb7-87e0-6b68eccc9030"
   },
   "outputs": [
    {
     "name": "stdout",
     "output_type": "stream",
     "text": [
      "Prediction for best driver id: 1001\n"
     ]
    }
   ],
   "source": [
    "make_drivers_prediction()"
   ]
  }
 ],
 "metadata": {
  "colab": {
   "authorship_tag": "ABX9TyPxfJo7miJVPRo4IDVQvAqB",
   "collapsed_sections": [],
   "include_colab_link": true,
   "name": "Driver Ranking Tutorial",
   "provenance": []
  },
  "kernelspec": {
   "display_name": "Python [conda env:python3.8]",
   "language": "python",
   "name": "conda-env-python3.8-py"
  },
  "language_info": {
   "codemirror_mode": {
    "name": "ipython",
    "version": 3
   },
   "file_extension": ".py",
   "mimetype": "text/x-python",
   "name": "python",
   "nbconvert_exporter": "python",
   "pygments_lexer": "ipython3",
   "version": "3.8.12"
  }
 },
 "nbformat": 4,
 "nbformat_minor": 1
}
